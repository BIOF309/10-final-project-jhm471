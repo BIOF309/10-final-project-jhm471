{
 "cells": [
  {
   "cell_type": "markdown",
   "metadata": {},
   "source": [
    "<h1><center><font size=\"8\">BIOF309 Final Project</font></center></h1>\n",
    "<h1><center><font size=\"5\">Automating walking and talking data collection with Raspberry Pi</font></center></h1>"
   ]
  },
  {
   "cell_type": "markdown",
   "metadata": {},
   "source": [
    "<h1><center><font size=\"8\">Description of problem</font></center></h1>\n",
    "- # Stopwatch\n",
    "- # Recorder\n",
    "- # Data analysis\n",
    "![GAITRite](763_GAITRite_All.jpg)"
   ]
  },
  {
   "cell_type": "markdown",
   "metadata": {},
   "source": [
    "<h1><center><font size=\"8\">Proof of concept solution</font></center></h1>\n",
    "- # Raspberry Pi\n",
    "- # 4 microphone hardware attached on top (HAT)\n",
    "- # Trigger button\n",
    "- # Infrared break beam sensor\n",
    "![RaspberryPi](raspberry.jpg)"
   ]
  },
  {
   "cell_type": "code",
   "execution_count": null,
   "metadata": {},
   "outputs": [],
   "source": [
    "# This script controls a Raspberry Pi to begin recording audio at a button press and to stop recording audio when an \n",
    "# infrared beam is broken.\n",
    "\n",
    "# The script uses the following packages which need to be installed:\n",
    "# 1) SpeechRecognition\n",
    "# 2) pyaudio\n",
    "# 3) google-api-python-client\n",
    "# 4) FLAC (free lossless audio codec)\n",
    "\n",
    "# Import packages for general purpose input output (GPIO), time, and speech recognition.\n",
    "import RPi.GPIO as GPIO\n",
    "import time\n",
    "import speech_recognition as sr\n",
    "\n",
    "r = sr.Recognizer() # Create new recognizer instance for speech recognition.\n",
    "\n",
    "# Setup GPIO channels for button and infrared beam.\n",
    "GPIO.setmode(GPIO.BCM) # Set Broadcom designations for pin numbers on Raspberry Pi GPIO.\n",
    "GPIO.setup(2, GPIO.IN, pull_up_down=GPIO.PUD_UP) # Pin 2 is beam; input; pull up voltage as unbroken beam is 1/True.\n",
    "GPIO.setup(12, GPIO.IN, pull_up_down=GPIO.PUD_UP) # Pin 12 is button; input; pull up voltage as unpressed button is 1/True.\n",
    "GPIO.setwarnings(False) # ignore warnings caused by using multiple circuits on GPIO.\n",
    "\n",
    "# Set when to begin and end audio recording.\n",
    "while GPIO.input(2) == True: # Beam is unbroken. Audio recording will end when beam breaks and input 2 is False.\n",
    "    if GPIO.input(12) == False: # Button is pressed. Audio recording begins.\n",
    "        button_time = time.time() # Record time button is pressed.\n",
    "        print(\"Say as many words as you can that start with the letter 'b'\") # Cue user to begin word generation task.\n",
    "        with sr.Microphone() as source: # Default microphone is called.\n",
    "            audio = r.listen(source) \n",
    "\n",
    "# Record time beam is broken.            \n",
    "if GPIO.input(2) == False:\n",
    "    beam_time = time.time()\n",
    "\n",
    "# Calculate total time spent on word generation task.    \n",
    "total_time = beam_time - button_time\n",
    "\n",
    "# Use google client to recognize speech.\n",
    "words = r.recognize_google(audio)\n",
    "print(\"Google speech recognition thinks you said: \" + words)\n",
    "\n",
    "# Create list that only contains words starting with letter \"b\".\n",
    "words = words.lower()\n",
    "words_list = words.split(\" \")\n",
    "words_list_b = []\n",
    "for i in range(len(words_list)):\n",
    "    if words_list[i][0] == \"b\":\n",
    "        words_list_b.append(words_list[i])\n",
    "\n",
    "# Count the number of unique words that were spoken that start with the letter \"b\".        \n",
    "counter = 0\n",
    "unique_list = []\n",
    "for i in range(len(words_list_b)):\n",
    "    if words_list_b[i] in unique_list:\n",
    "        continue\n",
    "    else:\n",
    "        unique_list.append(words_list_b[i])\n",
    "        counter += 1\n",
    "\n",
    "print(\"You said \" + str(counter) + \" unique words\")      \n",
    "print(\"Total speaking time was: \" + str(round(total_time, 2)) + \"seconds\")"
   ]
  },
  {
   "cell_type": "markdown",
   "metadata": {},
   "source": [
    "<h1><center><font size=\"8\">Future directions</font></center></h1>\n",
    "- # Battery pack\n",
    "- # Bluetooth for beam\n",
    "- # Assess suitability of different voice recognition packages"
   ]
  },
  {
   "cell_type": "code",
   "execution_count": null,
   "metadata": {},
   "outputs": [],
   "source": []
  }
 ],
 "metadata": {
  "kernelspec": {
   "display_name": "Python 3",
   "language": "python",
   "name": "python3"
  },
  "language_info": {
   "codemirror_mode": {
    "name": "ipython",
    "version": 3
   },
   "file_extension": ".py",
   "mimetype": "text/x-python",
   "name": "python",
   "nbconvert_exporter": "python",
   "pygments_lexer": "ipython3",
   "version": "3.6.0"
  }
 },
 "nbformat": 4,
 "nbformat_minor": 2
}
